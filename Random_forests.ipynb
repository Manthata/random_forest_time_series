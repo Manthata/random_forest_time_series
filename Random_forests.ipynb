{
 "cells": [
  {
   "cell_type": "code",
   "execution_count": 1,
   "id": "81e3926c",
   "metadata": {},
   "outputs": [],
   "source": [
    "# random forestで来客予測\n",
    "import numpy as np\n",
    "from pandas import DataFrame\n",
    "import pandas as pd\n",
    "from sklearn.metrics import mean_absolute_error as mae\n",
    "from sklearn.ensemble import RandomForestRegressor\n",
    "from matplotlib import pyplot\n",
    "from sklearn.preprocessing import OneHotEncoder\n",
    "import matplotlib.pyplot as plt\n",
    "from sklearn.model_selection import train_test_split\n",
    "from sklearn import svm\n",
    "from sklearn import *\n",
    "import statsmodels.api as sm\n",
    "\n"
   ]
  },
  {
   "cell_type": "code",
   "execution_count": 7,
   "id": "5772745e",
   "metadata": {},
   "outputs": [],
   "source": [
    "#import data \n",
    "df = pd.read_csv('/Users/thakgatsomanthata/Downloads/CustomerNumberHistory.csv')\n",
    "\n",
    "\n",
    "# df = df.iloc[: , :-1]\n",
    "# df.index.name = \"ds\"\n",
    "df.columns = [\"ds\",\"y\"]\n",
    "df[\"Time_stamp\"] = pd.to_datetime(df[\"ds\"],yearfirst= True, infer_datetime_format= True, exact= True)\n",
    "df = df.set_index(\"Time_stamp\")\n",
    "df = df.drop(\"ds\", axis=1)\n",
    "# df[\"ds\"] = pd.to_datetime(df[\"ds\"]).dt.day\n",
    "# df[\"Month\"] = pd.to_datetime(df[\"ds\"]).dt.month\n",
    "df=df[df!=0].dropna()\n",
    "df =df[df!=1].dropna()\n",
    "# df=df[df<=1000].dropna()"
   ]
  },
  {
   "cell_type": "code",
   "execution_count": 10,
   "id": "131f021d",
   "metadata": {},
   "outputs": [],
   "source": [
    "#The day of the week with Monday=0, Sunday=6\n",
    "df['day'] = df.index.dayofweek\n",
    "df['month'] = df.index.month\n",
    "df['year'] = df.index.year"
   ]
  },
  {
   "cell_type": "code",
   "execution_count": 11,
   "id": "0aa5bf6c",
   "metadata": {},
   "outputs": [
    {
     "data": {
      "text/html": [
       "<div>\n",
       "<style scoped>\n",
       "    .dataframe tbody tr th:only-of-type {\n",
       "        vertical-align: middle;\n",
       "    }\n",
       "\n",
       "    .dataframe tbody tr th {\n",
       "        vertical-align: top;\n",
       "    }\n",
       "\n",
       "    .dataframe thead th {\n",
       "        text-align: right;\n",
       "    }\n",
       "</style>\n",
       "<table border=\"1\" class=\"dataframe\">\n",
       "  <thead>\n",
       "    <tr style=\"text-align: right;\">\n",
       "      <th></th>\n",
       "      <th>y</th>\n",
       "      <th>day</th>\n",
       "      <th>month</th>\n",
       "      <th>year</th>\n",
       "    </tr>\n",
       "    <tr>\n",
       "      <th>Time_stamp</th>\n",
       "      <th></th>\n",
       "      <th></th>\n",
       "      <th></th>\n",
       "      <th></th>\n",
       "    </tr>\n",
       "  </thead>\n",
       "  <tbody>\n",
       "    <tr>\n",
       "      <th>2018-01-03</th>\n",
       "      <td>853.0</td>\n",
       "      <td>2</td>\n",
       "      <td>1</td>\n",
       "      <td>2018</td>\n",
       "    </tr>\n",
       "    <tr>\n",
       "      <th>2018-01-04</th>\n",
       "      <td>765.0</td>\n",
       "      <td>3</td>\n",
       "      <td>1</td>\n",
       "      <td>2018</td>\n",
       "    </tr>\n",
       "    <tr>\n",
       "      <th>2018-01-05</th>\n",
       "      <td>531.0</td>\n",
       "      <td>4</td>\n",
       "      <td>1</td>\n",
       "      <td>2018</td>\n",
       "    </tr>\n",
       "    <tr>\n",
       "      <th>2018-01-06</th>\n",
       "      <td>632.0</td>\n",
       "      <td>5</td>\n",
       "      <td>1</td>\n",
       "      <td>2018</td>\n",
       "    </tr>\n",
       "    <tr>\n",
       "      <th>2018-01-07</th>\n",
       "      <td>884.0</td>\n",
       "      <td>6</td>\n",
       "      <td>1</td>\n",
       "      <td>2018</td>\n",
       "    </tr>\n",
       "    <tr>\n",
       "      <th>...</th>\n",
       "      <td>...</td>\n",
       "      <td>...</td>\n",
       "      <td>...</td>\n",
       "      <td>...</td>\n",
       "    </tr>\n",
       "    <tr>\n",
       "      <th>2021-06-09</th>\n",
       "      <td>75.0</td>\n",
       "      <td>2</td>\n",
       "      <td>6</td>\n",
       "      <td>2021</td>\n",
       "    </tr>\n",
       "    <tr>\n",
       "      <th>2021-06-10</th>\n",
       "      <td>98.0</td>\n",
       "      <td>3</td>\n",
       "      <td>6</td>\n",
       "      <td>2021</td>\n",
       "    </tr>\n",
       "    <tr>\n",
       "      <th>2021-06-11</th>\n",
       "      <td>93.0</td>\n",
       "      <td>4</td>\n",
       "      <td>6</td>\n",
       "      <td>2021</td>\n",
       "    </tr>\n",
       "    <tr>\n",
       "      <th>2021-06-12</th>\n",
       "      <td>210.0</td>\n",
       "      <td>5</td>\n",
       "      <td>6</td>\n",
       "      <td>2021</td>\n",
       "    </tr>\n",
       "    <tr>\n",
       "      <th>2021-06-13</th>\n",
       "      <td>173.0</td>\n",
       "      <td>6</td>\n",
       "      <td>6</td>\n",
       "      <td>2021</td>\n",
       "    </tr>\n",
       "  </tbody>\n",
       "</table>\n",
       "<p>1205 rows × 4 columns</p>\n",
       "</div>"
      ],
      "text/plain": [
       "                y  day  month  year\n",
       "Time_stamp                         \n",
       "2018-01-03  853.0    2      1  2018\n",
       "2018-01-04  765.0    3      1  2018\n",
       "2018-01-05  531.0    4      1  2018\n",
       "2018-01-06  632.0    5      1  2018\n",
       "2018-01-07  884.0    6      1  2018\n",
       "...           ...  ...    ...   ...\n",
       "2021-06-09   75.0    2      6  2021\n",
       "2021-06-10   98.0    3      6  2021\n",
       "2021-06-11   93.0    4      6  2021\n",
       "2021-06-12  210.0    5      6  2021\n",
       "2021-06-13  173.0    6      6  2021\n",
       "\n",
       "[1205 rows x 4 columns]"
      ]
     },
     "execution_count": 11,
     "metadata": {},
     "output_type": "execute_result"
    }
   ],
   "source": [
    "df"
   ]
  },
  {
   "cell_type": "code",
   "execution_count": 77,
   "id": "6f0119a7",
   "metadata": {},
   "outputs": [],
   "source": [
    "feature1 = df[\"day\"].to_numpy()\n",
    "feature2 = df[\"month\"].to_numpy()\n",
    "feature3 = df[\"year\"].to_numpy()"
   ]
  },
  {
   "cell_type": "code",
   "execution_count": 82,
   "id": "bf0de354",
   "metadata": {},
   "outputs": [],
   "source": [
    "feat_labels = [\"day\", \"month\", \"year\"]"
   ]
  },
  {
   "cell_type": "code",
   "execution_count": 78,
   "id": "1adff7d9",
   "metadata": {},
   "outputs": [],
   "source": [
    "features = []\n",
    "\n",
    "for i in range(len(feature1)):\n",
    "    feature = [feature1[i],feature2[i],feature3[i]]\n",
    "    features.append(feature)\n"
   ]
  },
  {
   "cell_type": "code",
   "execution_count": 80,
   "id": "9fe12a46",
   "metadata": {},
   "outputs": [],
   "source": [
    "X = np.array(features)\n",
    "y = df[\"y\"].to_numpy()"
   ]
  },
  {
   "cell_type": "code",
   "execution_count": 81,
   "id": "dc0dbea4",
   "metadata": {},
   "outputs": [],
   "source": [
    "X_train, X_test, y_train, y_test = train_test_split(X, y, test_size=0.4, random_state=0)"
   ]
  },
  {
   "cell_type": "code",
   "execution_count": 71,
   "id": "b6a6fd10",
   "metadata": {},
   "outputs": [],
   "source": []
  },
  {
   "cell_type": "code",
   "execution_count": 83,
   "id": "202de35b",
   "metadata": {},
   "outputs": [
    {
     "data": {
      "text/plain": [
       "RandomForestRegressor()"
      ]
     },
     "execution_count": 83,
     "metadata": {},
     "output_type": "execute_result"
    }
   ],
   "source": [
    "#Train the random forest model \n",
    "model = RandomForestRegressor(n_estimators=100)\n",
    "model.fit(X_train, y_train)"
   ]
  },
  {
   "cell_type": "code",
   "execution_count": null,
   "id": "982c0f52",
   "metadata": {},
   "outputs": [],
   "source": []
  },
  {
   "cell_type": "code",
   "execution_count": 95,
   "id": "e011db68",
   "metadata": {},
   "outputs": [],
   "source": [
    "feature_plot = pd.DataFrame(model.feature_importances_)\n"
   ]
  },
  {
   "cell_type": "code",
   "execution_count": 98,
   "id": "b7c5cb38",
   "metadata": {},
   "outputs": [
    {
     "data": {
      "text/plain": [
       "<AxesSubplot:>"
      ]
     },
     "execution_count": 98,
     "metadata": {},
     "output_type": "execute_result"
    },
    {
     "data": {
      "image/png": "[encoded data removed]",
      "text/plain": [
       "<Figure size 432x288 with 1 Axes>"
      ]
     },
     "metadata": {
      "needs_background": "light"
     },
     "output_type": "display_data"
    }
   ],
   "source": [
    "feature_plot.plot.bar()"
   ]
  },
  {
   "cell_type": "code",
   "execution_count": 99,
   "id": "73985b42",
   "metadata": {},
   "outputs": [],
   "source": [
    "yhat = model.predict(X_test)"
   ]
  },
  {
   "cell_type": "code",
   "execution_count": 101,
   "id": "9a07a0ef",
   "metadata": {},
   "outputs": [],
   "source": [
    "data = list(zip(y_test, yhat))"
   ]
  },
  {
   "cell_type": "code",
   "execution_count": 116,
   "id": "f27580c0",
   "metadata": {},
   "outputs": [],
   "source": [
    "results = pd.DataFrame(data)\n",
    "results.columns = [\"random forest\", \"ground truth\"]"
   ]
  },
  {
   "cell_type": "code",
   "execution_count": 117,
   "id": "7425498f",
   "metadata": {
    "scrolled": false
   },
   "outputs": [
    {
     "data": {
      "text/plain": [
       "Text(0, 0.5, 'Customer count')"
      ]
     },
     "execution_count": 117,
     "metadata": {},
     "output_type": "execute_result"
    },
    {
     "data": {
      "image/png": "[encoded data removed]",
      "text/plain": [
       "<Figure size 1440x720 with 1 Axes>"
      ]
     },
     "metadata": {
      "needs_background": "light"
     },
     "output_type": "display_data"
    }
   ],
   "source": [
    "results[0:50].plot.bar(figsize = (20, 10))\n",
    "plt.xlabel(\"Days\", fontsize=20)\n",
    "plt.ylabel(\"Customer count\", fontsize=20)"
   ]
  },
  {
   "cell_type": "code",
   "execution_count": 109,
   "id": "109345ab",
   "metadata": {},
   "outputs": [],
   "source": [
    "def MAPE(Y_actual,Y_Predicted):\n",
    "    mape = np.mean(np.abs((Y_actual - Y_Predicted)/Y_actual))*100\n",
    "    return mape"
   ]
  },
  {
   "cell_type": "code",
   "execution_count": 111,
   "id": "a7f7bbda",
   "metadata": {},
   "outputs": [
    {
     "data": {
      "text/plain": [
       "64.84441229257109"
      ]
     },
     "execution_count": 111,
     "metadata": {},
     "output_type": "execute_result"
    }
   ],
   "source": [
    "100 - MAPE(y_test, yhat )"
   ]
  },
  {
   "cell_type": "code",
   "execution_count": null,
   "id": "f8da269a",
   "metadata": {},
   "outputs": [],
   "source": []
  }
 ],
 "metadata": {
  "kernelspec": {
   "display_name": "Python 3",
   "language": "python",
   "name": "python3"
  },
  "language_info": {
   "codemirror_mode": {
    "name": "ipython",
    "version": 3
   },
   "file_extension": ".py",
   "mimetype": "text/x-python",
   "name": "python",
   "nbconvert_exporter": "python",
   "pygments_lexer": "ipython3",
   "version": "3.9.0"
  }
 },
 "nbformat": 4,
 "nbformat_minor": 5
}
